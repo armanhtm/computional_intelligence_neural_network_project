{
 "cells": [
  {
   "cell_type": "code",
   "execution_count": 339,
   "id": "902cee74",
   "metadata": {},
   "outputs": [],
   "source": [
    "import numpy as np\n",
    "import random\n",
    "import pickle\n",
    "import matplotlib.pyplot as plt\n",
    "import time"
   ]
  },
  {
   "cell_type": "markdown",
   "id": "bb3265ad",
   "metadata": {},
   "source": [
    "# loading data"
   ]
  },
  {
   "cell_type": "code",
   "execution_count": 340,
   "id": "679ed603",
   "metadata": {},
   "outputs": [
    {
     "name": "stdout",
     "output_type": "stream",
     "text": [
      "1962\n",
      "662\n"
     ]
    }
   ],
   "source": [
    "# loading training set features\n",
    "f = open(\"Datasets/train_set_features.pkl\", \"rb\")\n",
    "train_set_features2 = pickle.load(f)\n",
    "f.close()\n",
    "\n",
    "# reducing feature vector length \n",
    "features_STDs = np.std(a=train_set_features2, axis=0)\n",
    "train_set_features = train_set_features2[:, features_STDs > 52.3]\n",
    "\n",
    "# changing the range of data between 0 and 1\n",
    "train_set_features = np.divide(train_set_features, train_set_features.max())\n",
    "\n",
    "# loading training set labels\n",
    "f = open(\"Datasets/train_set_labels.pkl\", \"rb\")\n",
    "train_set_labels = pickle.load(f)\n",
    "f.close()\n",
    "\n",
    "# ------------\n",
    "# loading test set features\n",
    "f = open(\"Datasets/test_set_features.pkl\", \"rb\")\n",
    "test_set_features2 = pickle.load(f)\n",
    "f.close()\n",
    "\n",
    "# reducing feature vector length \n",
    "features_STDs = np.std(a=test_set_features2, axis=0)\n",
    "test_set_features = test_set_features2[:, features_STDs > 48]\n",
    "\n",
    "# changing the range of data between 0 and 1\n",
    "test_set_features = np.divide(test_set_features, test_set_features.max())\n",
    "\n",
    "# loading test set labels\n",
    "f = open(\"Datasets/test_set_labels.pkl\", \"rb\")\n",
    "test_set_labels = pickle.load(f)\n",
    "f.close()\n",
    "\n",
    "# ------------\n",
    "# preparing our training and test sets - joining datasets and labels\n",
    "train_set = []\n",
    "test_set = []\n",
    "\n",
    "for z in range(len(train_set_features)):\n",
    "    label = np.array([0,0,0,0])\n",
    "    label[int(train_set_labels[z])] = 1\n",
    "    label = label.reshape(4,1)\n",
    "    train_set.append((train_set_features[z].reshape(102,1), label))\n",
    "    \n",
    "\n",
    "for z in range(len(test_set_features)):\n",
    "    label = np.array([0,0,0,0])\n",
    "    label[int(test_set_labels[z])] = 1\n",
    "    label = label.reshape(4,1)\n",
    "    test_set.append((test_set_features[z].reshape(102,1), label))\n",
    "\n",
    "# shuffle\n",
    "random.shuffle(train_set)\n",
    "random.shuffle(test_set)\n",
    "\n",
    "# print size\n",
    "print(len(train_set)) #1962\n",
    "print(len(test_set)) #662"
   ]
  },
  {
   "cell_type": "markdown",
   "source": [
    "# check if images are ok"
   ],
   "metadata": {
    "collapsed": false,
    "pycharm": {
     "name": "#%% md\n"
    }
   }
  },
  {
   "cell_type": "code",
   "execution_count": 341,
   "id": "e15280b8",
   "metadata": {},
   "outputs": [
    {
     "name": "stdout",
     "output_type": "stream",
     "text": [
      "2\n"
     ]
    },
    {
     "data": {
      "text/plain": "<Figure size 432x288 with 1 Axes>",
      "image/png": "[encoded data removed]"
     },
     "metadata": {
      "needs_background": "light"
     },
     "output_type": "display_data"
    }
   ],
   "source": [
    "def show_img(img):\n",
    "    image = np.array(img)\n",
    "    image.resize((10,10),refcheck=False)\n",
    "    plt.imshow(image,'bone')\n",
    "def checking(dataset):\n",
    "    temp = np.random.randint(0,len(dataset))\n",
    "    show_img(dataset[temp][0])\n",
    "    print(np.argmax(dataset[temp][1]))\n",
    "    plt.show()\n",
    "checking(train_set)"
   ]
  },
  {
   "cell_type": "markdown",
   "source": [
    "# activation function and cost function (Mean Squared Error)"
   ],
   "metadata": {
    "collapsed": false,
    "pycharm": {
     "name": "#%% md\n"
    }
   }
  },
  {
   "cell_type": "code",
   "execution_count": 343,
   "id": "f814045e",
   "metadata": {},
   "outputs": [],
   "source": [
    "def sigmoid(x):\n",
    "    return 1 / (1 + np.exp(-x))\n",
    "def sigmoid_derivative(x):\n",
    "    sig = sigmoid(x)\n",
    "    return sig * (1 - sig)\n",
    "def cost_function_mse(train_data, number_of_test, all_weight_input, all_bias_input, last_layer_activation, other_layer_activation):\n",
    "    temp_cost = 0\n",
    "    for i in range(number_of_test):\n",
    "        prediction = forward_propagation(train_data[i][0], all_weight_input, all_bias_input, last_layer_activation, other_layer_activation)\n",
    "        temp_cost += np.sum(np.square(prediction[-1] - train_data[i][1]))\n",
    "    return temp_cost / number_of_test\n",
    "def cost_function_mse_derivative(predict,label_output):\n",
    "    return 2 * (predict - label_output)"
   ]
  },
  {
   "cell_type": "markdown",
   "source": [
    "# initial weights and biases (if derivative we just initial them with zero else random number between 0 and 1 )"
   ],
   "metadata": {
    "collapsed": false,
    "pycharm": {
     "name": "#%% md\n"
    }
   }
  },
  {
   "cell_type": "code",
   "execution_count": 344,
   "id": "0092558b",
   "metadata": {
    "pycharm": {
     "name": "#%%\n"
    }
   },
   "outputs": [],
   "source": [
    "def initialization(input_model, derivative=False):\n",
    "    all_weight_init = []\n",
    "    all_bias_init = []\n",
    "    if derivative:\n",
    "        for i in range(len(input_model) - 1):\n",
    "            temp = np.zeros((input_model[i + 1][0] , input_model[i][0]))\n",
    "            all_weight_init.append(temp)\n",
    "    else:\n",
    "        for i in range(len(input_model) - 1):\n",
    "            temp = np.random.normal(0, 1, size=(input_model[i + 1][0], input_model[i][0]))\n",
    "            all_weight_init.append(temp)\n",
    "    for j in input_model[1:]:\n",
    "        all_bias_init.append(np.zeros((j[0], 1)))\n",
    "    return all_weight_init, all_bias_init"
   ]
  },
  {
   "cell_type": "markdown",
   "source": [
    "# forward propagation and find output of layers"
   ],
   "metadata": {
    "collapsed": false,
    "pycharm": {
     "name": "#%% md\n"
    }
   }
  },
  {
   "cell_type": "code",
   "execution_count": 345,
   "id": "2ba65b1c",
   "metadata": {
    "pycharm": {
     "name": "#%%\n"
    }
   },
   "outputs": [],
   "source": [
    "def forward_propagation(image, all_weight_input, all_bias_input, last_layer_activation, other_layer_activation):\n",
    "    output = [image]\n",
    "    for i in range(len(all_weight_input)):\n",
    "        if i == len(all_weight_input) - 1:\n",
    "            activation = last_layer_activation\n",
    "        else:\n",
    "            activation = other_layer_activation\n",
    "        temp = activation(np.dot(all_weight_input[i], output[i]) + all_bias_input[i])\n",
    "        output.append(temp)\n",
    "    return output"
   ]
  },
  {
   "cell_type": "markdown",
   "source": [
    "# calculate accuracy for specific weights and biases on data set"
   ],
   "metadata": {
    "collapsed": false,
    "pycharm": {
     "name": "#%% md\n"
    }
   }
  },
  {
   "cell_type": "code",
   "execution_count": 346,
   "id": "1bce8266",
   "metadata": {
    "pycharm": {
     "name": "#%%\n"
    }
   },
   "outputs": [],
   "source": [
    "def accuracy(train_data, number_for_test, all_weight_input, all_bias_input, last_layer_activation, other_layer_activation):\n",
    "    correct = 0\n",
    "    for i in range(number_for_test):\n",
    "        prediction = forward_propagation(train_data[i][0], all_weight_input, all_bias_input, last_layer_activation, other_layer_activation)\n",
    "        if np.argmax(prediction[-1]) == np.argmax(train_data[i][1]):\n",
    "            correct += 1\n",
    "    return correct / number_for_test"
   ]
  },
  {
   "cell_type": "markdown",
   "source": [
    "# bulid first model without doing any learning"
   ],
   "metadata": {
    "collapsed": false,
    "pycharm": {
     "name": "#%% md\n"
    }
   }
  },
  {
   "cell_type": "code",
   "execution_count": 347,
   "id": "982389fc",
   "metadata": {
    "pycharm": {
     "name": "#%%\n"
    }
   },
   "outputs": [
    {
     "data": {
      "text/plain": "0.265"
     },
     "execution_count": 347,
     "metadata": {},
     "output_type": "execute_result"
    }
   ],
   "source": [
    "model_first_test = [\n",
    "    [len(train_set[0][0])],\n",
    "    [150],\n",
    "    [60],\n",
    "    [4],\n",
    "]\n",
    "all_weight, all_bias = initialization(model_first_test)\n",
    "accuracy(train_set, 200, all_weight, all_bias, sigmoid, sigmoid)"
   ]
  },
  {
   "cell_type": "markdown",
   "source": [
    "# calculate weight derivative and bias derivative for a layer using for loop"
   ],
   "metadata": {
    "collapsed": false,
    "pycharm": {
     "name": "#%% md\n"
    }
   }
  },
  {
   "cell_type": "code",
   "execution_count": 348,
   "id": "146ae020",
   "metadata": {
    "pycharm": {
     "name": "#%%\n"
    }
   },
   "outputs": [],
   "source": [
    "def derivative_with_for_loop(current_layer, previous_layer, d_of_previous_layer, weight, bias, other_layer_derivative):\n",
    "    row, col = len(weight), len(weight[0])\n",
    "    derivative_activation = other_layer_derivative\n",
    "    d_of_cost = np.zeros((col, 1))\n",
    "    d_of_bias = np.zeros((row, 1))\n",
    "    d_of_weight = np.zeros((row, col))\n",
    "    for i in range(row):\n",
    "        d_of_bias[i] = d_of_previous_layer[i] * derivative_activation(np.dot(weight[i][:], previous_layer) + bias[i])\n",
    "        for j in range(col):\n",
    "            d_of_weight[i][j] = d_of_bias[i] * previous_layer[j]\n",
    "    if current_layer == 0:\n",
    "        return d_of_weight, d_of_bias, d_of_cost\n",
    "    for i in range(col):\n",
    "        for j in range(row):\n",
    "            d_of_cost[i] += d_of_bias[j] * weight[j][i]\n",
    "    return d_of_weight, d_of_bias, d_of_cost"
   ]
  },
  {
   "cell_type": "markdown",
   "source": [
    "# calculate weight derivative and bias derivative for a layer using vectorization"
   ],
   "metadata": {
    "collapsed": false,
    "pycharm": {
     "name": "#%% md\n"
    }
   }
  },
  {
   "cell_type": "code",
   "execution_count": 349,
   "id": "31260582",
   "metadata": {
    "pycharm": {
     "name": "#%%\n"
    }
   },
   "outputs": [],
   "source": [
    "def derivative_with_vectorization(current_layer, previous_layer, d_of_previous_layer, weight, bias, other_layer_derivative):\n",
    "    row, col = len(weight), len(weight[0])\n",
    "    derivative_activation = other_layer_derivative\n",
    "    d_of_cost = np.zeros((col, 1))\n",
    "    d_of_bias = d_of_previous_layer * derivative_activation(np.dot(weight, previous_layer) + bias)\n",
    "    d_of_weight = np.dot(d_of_bias, np.transpose(previous_layer))\n",
    "    if current_layer == 0:\n",
    "        return d_of_weight, d_of_bias, d_of_cost\n",
    "    d_of_cost = np.dot(np.transpose(weight), d_of_bias)\n",
    "    return d_of_weight, d_of_bias, d_of_cost"
   ]
  },
  {
   "cell_type": "markdown",
   "source": [
    "# calculate back propagation and all weight and bias derivatives"
   ],
   "metadata": {
    "collapsed": false,
    "pycharm": {
     "name": "#%% md\n"
    }
   }
  },
  {
   "cell_type": "code",
   "execution_count": 350,
   "id": "92bf2666",
   "metadata": {
    "pycharm": {
     "name": "#%%\n"
    }
   },
   "outputs": [],
   "source": [
    "def back_propagation(weights, biases, output_of_layer, label_input, last_layer_derivative, other_layer_derivative, using_vectorization=False):\n",
    "    all_d_of_weights = []\n",
    "    all_d_of_biases = []\n",
    "    all_d_of_costs = [0 for _ in range(len(weights))]\n",
    "    if last_layer_derivative != softmax_derivative:\n",
    "        all_d_of_costs[len(weights) - 1] = cost_function_mse_derivative(output_of_layer[-1] ,label_input)\n",
    "    else:\n",
    "        all_d_of_costs[len(weights) - 1] = softmax_derivative(output_of_layer[-1] ,label_input)\n",
    "    for i in range(len(weights) - 1, -1, -1):\n",
    "        if not using_vectorization:\n",
    "            temp_weight ,temp_bias ,temp_cost = derivative_with_for_loop(i, output_of_layer[i], all_d_of_costs[i], weights[i], biases[i] ,other_layer_derivative)\n",
    "        else:\n",
    "            temp_weight ,temp_bias, temp_cost = derivative_with_vectorization(i ,output_of_layer[i], all_d_of_costs[i] ,weights[i] ,biases[i] ,other_layer_derivative)\n",
    "        all_d_of_weights.append(temp_weight)\n",
    "        all_d_of_biases.append(temp_bias)\n",
    "        all_d_of_costs[i - 1] = temp_cost\n",
    "    return all_d_of_weights[::-1] ,all_d_of_biases[::-1]\n"
   ]
  },
  {
   "cell_type": "markdown",
   "source": [
    "# build main model and giving differnet option to it and start learning"
   ],
   "metadata": {
    "collapsed": false,
    "pycharm": {
     "name": "#%% md\n"
    }
   }
  },
  {
   "cell_type": "code",
   "execution_count": 351,
   "id": "07d5d510",
   "metadata": {
    "pycharm": {
     "name": "#%%\n"
    }
   },
   "outputs": [],
   "source": [
    "def main_model(model_input, train_data, test_data, learning_rate, epoch, batch, last_layer_activation, other_layer_activation, last_layer_derivative, other_layer_derivative, size_of_using_train_set\n",
    "               , beta, just_use_train_set=True, use_momentum=False, vectorization=False):\n",
    "    v = 0\n",
    "    train_plot = []\n",
    "    test_plot = []\n",
    "    cost_plot = []\n",
    "    all_weights ,all_biases = initialization(model_input)\n",
    "    if use_momentum:\n",
    "        v = momentum(model_input)\n",
    "    for i in range(epoch):\n",
    "        random.shuffle(train_data)\n",
    "        random.shuffle(test_data)\n",
    "        if just_use_train_set:\n",
    "            train_data = train_data[:size_of_using_train_set]\n",
    "        list_of_batch = [train_data[j:j + batch] for j in range(0, len(train_data), batch)]\n",
    "        for each_batch in list_of_batch:\n",
    "            all_d_of_weights ,all_d_of_biases = initialization(model_input, derivative=True)\n",
    "            for image , image_label in each_batch:\n",
    "                output_of_layer = forward_propagation(image, all_weights, all_biases, last_layer_activation, other_layer_activation)\n",
    "                temp_d_of_weights ,temp_d_of_biases = back_propagation(all_weights, all_biases, output_of_layer, image_label, last_layer_derivative, other_layer_derivative, vectorization)\n",
    "                for k in range(len(all_d_of_weights)):\n",
    "                    all_d_of_weights[k] += temp_d_of_weights[k]\n",
    "                for k in range(len(all_d_of_biases)):\n",
    "                    all_d_of_biases[k] += temp_d_of_biases[k]\n",
    "            if not use_momentum:\n",
    "                for k in range(len(all_weights)):\n",
    "                    all_weights[k] -= (learning_rate * all_d_of_weights[k]) / batch\n",
    "                for k in range(len(all_biases)):\n",
    "                    all_biases[k] -= (learning_rate * all_d_of_biases[k]) / batch\n",
    "            else:\n",
    "                for k in range(len(all_weights)):\n",
    "                    v['dw'][k] = beta * v['dw'][k] + (1 - beta) * all_d_of_weights[k]\n",
    "                    all_weights[k] -= learning_rate * v['dw'][k] / batch\n",
    "                for k in range(len(all_biases)):\n",
    "                    v['db'][k] = beta * v['db'][k] + (1 - beta) * all_d_of_biases[k]\n",
    "                    all_biases[k] -= learning_rate * v['db'][k] / batch\n",
    "        train_plot.append(accuracy(train_data, len(train_data), all_weights, all_biases, last_layer_activation, other_layer_activation))\n",
    "        if last_layer_activation != softmax:\n",
    "            cost_plot.append(cost_function_mse(train_data, len(train_data), all_weights, all_biases, last_layer_activation, other_layer_activation))\n",
    "        else:\n",
    "            cost_plot.append(cross_entropy(train_data, len(train_data), all_weights, all_biases, last_layer_activation, other_layer_activation))\n",
    "        if not just_use_train_set:\n",
    "            test_plot.append(accuracy(test_data, len(test_data), all_weights, all_biases, last_layer_activation, other_layer_activation))\n",
    "            print(f'epoch : {i} ===> cost : {cost_plot[i]} , train accuracy : {train_plot[i]} , test accuracy : {test_plot[i]}')\n",
    "        else:\n",
    "            print(f'epoch : {i} ===> cost : {cost_plot[i]} , train accuracy : {train_plot[i]}')\n",
    "    print('__________________________________________________')\n",
    "    print(f\"train accuracy: {train_plot[-1]}\")\n",
    "    if not just_use_train_set:\n",
    "        print(f\"test accuracy: {test_plot[-1]}\")\n",
    "    else:\n",
    "        print(f\"test accuracy: {cost_plot[-1]}\")\n",
    "    return train_plot ,test_plot ,cost_plot ,all_weights ,all_biases\n"
   ]
  },
  {
   "cell_type": "markdown",
   "source": [
    "# show error and accuracy using plot"
   ],
   "metadata": {
    "collapsed": false,
    "pycharm": {
     "name": "#%% md\n"
    }
   }
  },
  {
   "cell_type": "code",
   "execution_count": 352,
   "id": "b6e8b373",
   "metadata": {},
   "outputs": [],
   "source": [
    "def show_plot(train_input, test_input, cost_input, just_use_train_set=True):\n",
    "    plt.plot([i for i in range(1, len(train_input) + 1)], train_input, label='train set accuracy')\n",
    "    if not just_use_train_set:\n",
    "         plt.plot([i for i in range(1, len(test_input) + 1)], test_input, label='train set accuracy')\n",
    "    plt.legend(loc=\"upper left\", frameon=False)\n",
    "    plt.show()\n",
    "    plt.plot([i for i in range(1, len(cost_input) + 1)], cost_input, label='cost function')\n",
    "    plt.legend(loc=\"upper right\", frameon=False)\n",
    "    plt.show()\n"
   ]
  },
  {
   "cell_type": "markdown",
   "source": [
    "# model with 200 image and using for loops"
   ],
   "metadata": {
    "collapsed": false,
    "pycharm": {
     "name": "#%% md\n"
    }
   }
  },
  {
   "cell_type": "code",
   "execution_count": 355,
   "id": "84c1804a",
   "metadata": {},
   "outputs": [
    {
     "name": "stdout",
     "output_type": "stream",
     "text": [
      "epoch : 0 ===> cost : 1.3881824024870952 , train accuracy : 0.28\n",
      "epoch : 1 ===> cost : 1.333237512605802 , train accuracy : 0.28\n",
      "epoch : 2 ===> cost : 1.4352909974706534 , train accuracy : 0.28\n",
      "epoch : 3 ===> cost : 0.9737614843153837 , train accuracy : 0.545\n",
      "epoch : 4 ===> cost : 0.457926631574977 , train accuracy : 0.655\n",
      "epoch : 5 ===> cost : 0.5017556661671487 , train accuracy : 0.515\n",
      "epoch : 6 ===> cost : 0.24782207753773286 , train accuracy : 0.795\n",
      "epoch : 7 ===> cost : 0.2431727403505567 , train accuracy : 0.795\n",
      "epoch : 8 ===> cost : 0.29400201994336916 , train accuracy : 0.79\n",
      "epoch : 9 ===> cost : 0.21882988209145918 , train accuracy : 0.795\n",
      "__________________________________________________\n",
      "train accuracy: 0.795\n",
      "test accuracy: 0.21882988209145918\n"
     ]
    },
    {
     "data": {
      "text/plain": "<Figure size 432x288 with 1 Axes>",
      "image/png": "[encoded data removed]"
     },
     "metadata": {
      "needs_background": "light"
     },
     "output_type": "display_data"
    },
    {
     "data": {
      "text/plain": "<Figure size 432x288 with 1 Axes>",
      "image/png": "[encoded data removed]"
     },
     "metadata": {
      "needs_background": "light"
     },
     "output_type": "display_data"
    },
    {
     "name": "stdout",
     "output_type": "stream",
     "text": [
      "minutes : 3\n",
      "seconds : 8\n"
     ]
    }
   ],
   "source": [
    "start_time = time.time()\n",
    "train ,test ,cost ,final_weights ,final_biases = main_model(model_first_test ,train_set ,test_set ,1 ,10 ,10 ,sigmoid ,sigmoid ,sigmoid_derivative ,sigmoid_derivative ,200 ,0.7 ,just_use_train_set=True ,use_momentum=False ,vectorization=False)\n",
    "show_plot(train ,test ,cost ,just_use_train_set=True)\n",
    "final_time_second = round(time.time() - start_time)\n",
    "print(f\"minutes : {final_time_second // 60}\")\n",
    "print(f\"seconds : {final_time_second % 60}\")"
   ]
  },
  {
   "cell_type": "code",
   "execution_count": 356,
   "id": "28aef6a3",
   "metadata": {},
   "outputs": [
    {
     "name": "stdout",
     "output_type": "stream",
     "text": [
      "round : 1\n",
      "epoch : 0 ===> cost : 0.10047390449300231 , train accuracy : 0.9943934760448522 , test accuracy : 0.9259818731117825\n",
      "epoch : 1 ===> cost : 0.010075607033534394 , train accuracy : 1.0 , test accuracy : 0.9335347432024169\n",
      "epoch : 2 ===> cost : 0.004981890761738298 , train accuracy : 1.0 , test accuracy : 0.9607250755287009\n",
      "epoch : 3 ===> cost : 0.002734160393280023 , train accuracy : 1.0 , test accuracy : 0.9954682779456193\n",
      "epoch : 4 ===> cost : 0.0019855961048076665 , train accuracy : 1.0 , test accuracy : 0.9909365558912386\n",
      "__________________________________________________\n",
      "train accuracy: 1.0\n",
      "test accuracy: 0.9909365558912386\n",
      "min 0.0 : sec 4.388\n",
      "____________________________________________________________________________________________________\n",
      "round : 2\n",
      "epoch : 0 ===> cost : 0.26682806237788875 , train accuracy : 0.7502548419979612 , test accuracy : 0.7492447129909365\n",
      "epoch : 1 ===> cost : 0.25166405962688165 , train accuracy : 0.7502548419979612 , test accuracy : 0.7492447129909365\n",
      "epoch : 2 ===> cost : 0.006536626383774205 , train accuracy : 1.0 , test accuracy : 1.0\n",
      "epoch : 3 ===> cost : 0.0022104548661600176 , train accuracy : 1.0 , test accuracy : 1.0\n",
      "epoch : 4 ===> cost : 0.0016845544884739835 , train accuracy : 1.0 , test accuracy : 1.0\n",
      "__________________________________________________\n",
      "train accuracy: 1.0\n",
      "test accuracy: 1.0\n",
      "min 0.0 : sec 3.416\n",
      "____________________________________________________________________________________________________\n",
      "round : 3\n",
      "epoch : 0 ===> cost : 1.7608231888254398 , train accuracy : 0.25076452599388377 , test accuracy : 0.24773413897280966\n",
      "epoch : 1 ===> cost : 0.7590681682276392 , train accuracy : 0.25076452599388377 , test accuracy : 0.24773413897280966\n",
      "epoch : 2 ===> cost : 0.006084514201316578 , train accuracy : 1.0 , test accuracy : 0.9969788519637462\n",
      "epoch : 3 ===> cost : 0.0028859242475120657 , train accuracy : 1.0 , test accuracy : 1.0\n",
      "epoch : 4 ===> cost : 0.002018801595569361 , train accuracy : 1.0 , test accuracy : 1.0\n",
      "__________________________________________________\n",
      "train accuracy: 1.0\n",
      "test accuracy: 1.0\n",
      "min 0.0 : sec 4.052\n",
      "____________________________________________________________________________________________________\n",
      "round : 4\n",
      "epoch : 0 ===> cost : 0.01502757796459513 , train accuracy : 1.0 , test accuracy : 0.9984894259818731\n",
      "epoch : 1 ===> cost : 0.006995389345003931 , train accuracy : 1.0 , test accuracy : 0.9969788519637462\n",
      "epoch : 2 ===> cost : 0.002930087882770862 , train accuracy : 1.0 , test accuracy : 0.9984894259818731\n",
      "epoch : 3 ===> cost : 0.0017852888635813107 , train accuracy : 1.0 , test accuracy : 1.0\n",
      "epoch : 4 ===> cost : 0.0018975820289671703 , train accuracy : 1.0 , test accuracy : 1.0\n",
      "__________________________________________________\n",
      "train accuracy: 1.0\n",
      "test accuracy: 1.0\n",
      "min 0.0 : sec 3.44\n",
      "____________________________________________________________________________________________________\n",
      "round : 5\n",
      "epoch : 0 ===> cost : 0.02444126932798828 , train accuracy : 0.9979612640163099 , test accuracy : 1.0\n",
      "epoch : 1 ===> cost : 0.009467112524719492 , train accuracy : 1.0 , test accuracy : 0.9773413897280967\n",
      "epoch : 2 ===> cost : 0.002475508842227657 , train accuracy : 1.0 , test accuracy : 0.9984894259818731\n",
      "epoch : 3 ===> cost : 0.0020206785128958882 , train accuracy : 1.0 , test accuracy : 0.9984894259818731\n",
      "epoch : 4 ===> cost : 0.001309225391894196 , train accuracy : 1.0 , test accuracy : 0.9984894259818731\n",
      "__________________________________________________\n",
      "train accuracy: 1.0\n",
      "test accuracy: 0.9984894259818731\n",
      "min 0.0 : sec 3.533\n",
      "____________________________________________________________________________________________________\n",
      "round : 6\n",
      "epoch : 0 ===> cost : 0.31522101386858314 , train accuracy : 0.6952089704383282 , test accuracy : 0.6661631419939577\n",
      "epoch : 1 ===> cost : 0.00687122560008785 , train accuracy : 1.0 , test accuracy : 0.9909365558912386\n",
      "epoch : 2 ===> cost : 0.0028857325547640483 , train accuracy : 1.0 , test accuracy : 0.9969788519637462\n",
      "epoch : 3 ===> cost : 0.0024884648533484077 , train accuracy : 1.0 , test accuracy : 0.9969788519637462\n",
      "epoch : 4 ===> cost : 0.002478843572361934 , train accuracy : 1.0 , test accuracy : 0.9984894259818731\n",
      "__________________________________________________\n",
      "train accuracy: 1.0\n",
      "test accuracy: 0.9984894259818731\n",
      "min 0.0 : sec 3.932\n",
      "____________________________________________________________________________________________________\n",
      "round : 7\n",
      "epoch : 0 ===> cost : 0.7522087817144013 , train accuracy : 0.24974515800203873 , test accuracy : 0.25075528700906347\n",
      "epoch : 1 ===> cost : 0.7508523484105823 , train accuracy : 0.24974515800203873 , test accuracy : 0.25075528700906347\n",
      "epoch : 2 ===> cost : 0.7505777712412443 , train accuracy : 0.24974515800203873 , test accuracy : 0.25075528700906347\n",
      "epoch : 3 ===> cost : 0.7504739224702327 , train accuracy : 0.24974515800203873 , test accuracy : 0.25075528700906347\n",
      "epoch : 4 ===> cost : 0.7504098076114908 , train accuracy : 0.24974515800203873 , test accuracy : 0.25075528700906347\n",
      "__________________________________________________\n",
      "train accuracy: 0.24974515800203873\n",
      "test accuracy: 0.25075528700906347\n",
      "min 0.0 : sec 3.225\n",
      "____________________________________________________________________________________________________\n",
      "round : 8\n",
      "epoch : 0 ===> cost : 0.3795255815070037 , train accuracy : 0.6478083588175332 , test accuracy : 0.6042296072507553\n",
      "epoch : 1 ===> cost : 0.006382263794370403 , train accuracy : 1.0 , test accuracy : 1.0\n",
      "epoch : 2 ===> cost : 0.0029219519562948865 , train accuracy : 1.0 , test accuracy : 1.0\n",
      "epoch : 3 ===> cost : 0.00200040667853657 , train accuracy : 1.0 , test accuracy : 1.0\n",
      "epoch : 4 ===> cost : 0.0014476831029568977 , train accuracy : 1.0 , test accuracy : 1.0\n",
      "__________________________________________________\n",
      "train accuracy: 1.0\n",
      "test accuracy: 1.0\n",
      "min 0.0 : sec 3.896\n",
      "____________________________________________________________________________________________________\n",
      "round : 9\n",
      "epoch : 0 ===> cost : 0.2585867065397063 , train accuracy : 0.7502548419979612 , test accuracy : 0.7492447129909365\n",
      "epoch : 1 ===> cost : 0.25278302159203586 , train accuracy : 0.7502548419979612 , test accuracy : 0.7492447129909365\n",
      "epoch : 2 ===> cost : 0.25236632222387206 , train accuracy : 0.7502548419979612 , test accuracy : 0.7492447129909365\n",
      "epoch : 3 ===> cost : 0.25105117728614695 , train accuracy : 0.7502548419979612 , test accuracy : 0.7492447129909365\n",
      "epoch : 4 ===> cost : 0.250738654420917 , train accuracy : 0.7502548419979612 , test accuracy : 0.7492447129909365\n",
      "__________________________________________________\n",
      "train accuracy: 0.7502548419979612\n",
      "test accuracy: 0.7492447129909365\n",
      "min 0.0 : sec 3.362\n",
      "____________________________________________________________________________________________________\n",
      "round : 10\n",
      "epoch : 0 ===> cost : 0.3057752337199323 , train accuracy : 0.7308868501529052 , test accuracy : 0.6691842900302115\n",
      "epoch : 1 ===> cost : 0.010894867684611807 , train accuracy : 1.0 , test accuracy : 0.9924471299093656\n",
      "epoch : 2 ===> cost : 0.00415774660140125 , train accuracy : 1.0 , test accuracy : 1.0\n",
      "epoch : 3 ===> cost : 0.0022515097840585226 , train accuracy : 1.0 , test accuracy : 1.0\n",
      "epoch : 4 ===> cost : 0.0017474284190745224 , train accuracy : 1.0 , test accuracy : 1.0\n",
      "__________________________________________________\n",
      "train accuracy: 1.0\n",
      "test accuracy: 1.0\n",
      "min 0.0 : sec 3.413\n",
      "____________________________________________________________________________________________________\n"
     ]
    },
    {
     "data": {
      "text/plain": "<Figure size 432x288 with 1 Axes>",
      "image/png": "[encoded data removed]"
     },
     "metadata": {
      "needs_background": "light"
     },
     "output_type": "display_data"
    },
    {
     "data": {
      "text/plain": "<Figure size 432x288 with 1 Axes>",
      "image/png": "[encoded data removed]"
     },
     "metadata": {
      "needs_background": "light"
     },
     "output_type": "display_data"
    },
    {
     "name": "stdout",
     "output_type": "stream",
     "text": [
      "average cost : 0.10157181767365135 and average accuracy on train set : 0.9 and average accuracy on test set : 0.8987915407854985\n"
     ]
    }
   ],
   "source": [
    "train_rounds = []\n",
    "test_rounds = []\n",
    "cost_rounds = []\n",
    "for i in range(10):\n",
    "    print(f\"round : {i + 1}\")\n",
    "    start = time.time()\n",
    "    train ,test ,cost ,final_weights ,final_biases = main_model(model_first_test ,train_set ,test_set ,1 ,5 ,10 ,sigmoid ,sigmoid ,sigmoid_derivative ,sigmoid_derivative ,200 ,0.9,just_use_train_set=False ,vectorization=True)\n",
    "    end = round(time.time() - start , 3)\n",
    "    print('min {} : sec {}'.format(end//60 , end % 60))\n",
    "    train_rounds.append(train[-1])\n",
    "    test_rounds.append(test[-1])\n",
    "    cost_rounds.append(cost[-1])\n",
    "    print(\"____________________________________________________________________________________________________\")\n",
    "show_plot(train_rounds ,test_rounds ,cost_rounds ,just_use_train_set=False)\n",
    "print(f\"average cost : {sum(cost_rounds) / 10} and average accuracy on train set : {sum(train_rounds) / 10} and average accuracy on test set : {sum(test_rounds) / 10}\")"
   ]
  },
  {
   "cell_type": "markdown",
   "source": [
    "# test calculated weights and biases for prediction and print results"
   ],
   "metadata": {
    "collapsed": false,
    "pycharm": {
     "name": "#%% md\n"
    }
   }
  },
  {
   "cell_type": "code",
   "execution_count": 357,
   "id": "6abe771e",
   "metadata": {},
   "outputs": [],
   "source": [
    "def test_prediction(test_set_input, all_weight_input, all_bias_input, last_layer_activation, other_layer_activation):\n",
    "    fruits = [\"apple\",\"lemon\",\"mango\",\"raspberry\"]\n",
    "    rand = random.randint(0, len(test_set_input))\n",
    "    prediction = forward_propagation(test_set_input[rand][0], all_weight_input, all_bias_input, last_layer_activation, other_layer_activation)\n",
    "    prediction_label = prediction[-1]\n",
    "    image_label = np.where(test_set_input[rand][1] == np.amax(test_set_input[rand][1]))\n",
    "    prediction_image = np.where(prediction_label == np.amax(prediction_label))\n",
    "    print(f\"image was a {fruits[int(image_label[0])]}\")\n",
    "    print(f\"and the prediction was a {fruits[int(prediction_image[0])]}\")"
   ]
  },
  {
   "cell_type": "code",
   "execution_count": 360,
   "id": "274277d4",
   "metadata": {},
   "outputs": [
    {
     "name": "stdout",
     "output_type": "stream",
     "text": [
      "image was a mango\n",
      "and the prediction was a mango\n"
     ]
    }
   ],
   "source": [
    "test_prediction(test_set, final_weights ,final_biases ,sigmoid ,sigmoid)"
   ]
  },
  {
   "cell_type": "markdown",
   "source": [
    "# extra credit 1 (finding good learning rate and batch and epoch)"
   ],
   "metadata": {
    "collapsed": false,
    "pycharm": {
     "name": "#%% md\n"
    }
   }
  },
  {
   "cell_type": "code",
   "execution_count": 361,
   "outputs": [
    {
     "name": "stdout",
     "output_type": "stream",
     "text": [
      "epoch : 0 ===> cost : 1.357421140558501 , train accuracy : 0.25\n",
      "epoch : 1 ===> cost : 1.2961207453754826 , train accuracy : 0.25\n",
      "epoch : 2 ===> cost : 1.290069326819384 , train accuracy : 0.25\n",
      "epoch : 3 ===> cost : 1.109412039238694 , train accuracy : 0.25\n",
      "epoch : 4 ===> cost : 1.0793055376347798 , train accuracy : 0.25\n",
      "__________________________________________________\n",
      "train accuracy: 0.25\n",
      "test accuracy: 1.0793055376347798\n"
     ]
    },
    {
     "data": {
      "text/plain": "<Figure size 432x288 with 1 Axes>",
      "image/png": "[encoded data removed]"
     },
     "metadata": {
      "needs_background": "light"
     },
     "output_type": "display_data"
    },
    {
     "data": {
      "text/plain": "<Figure size 432x288 with 1 Axes>",
      "image/png": "[encoded data removed]"
     },
     "metadata": {
      "needs_background": "light"
     },
     "output_type": "display_data"
    },
    {
     "name": "stdout",
     "output_type": "stream",
     "text": [
      "minutes : 0\n",
      "seconds : 1\n"
     ]
    }
   ],
   "source": [
    "#learning rate = 1 ,epoch = 5 and batch = 10 for still 200 images\n",
    "start_time = time.time()\n",
    "train ,test ,cost ,final_weights ,final_biases = main_model(model_first_test ,train_set ,test_set ,1 ,5 ,10 ,sigmoid ,sigmoid ,sigmoid_derivative ,sigmoid_derivative ,200 ,0.7 ,just_use_train_set=True ,use_momentum=True ,vectorization=True)\n",
    "show_plot(train ,test ,cost ,just_use_train_set=False)\n",
    "final_time_second = round(time.time() - start_time)\n",
    "print(f\"minutes : {final_time_second // 60}\")\n",
    "print(f\"seconds : {final_time_second % 60}\")"
   ],
   "metadata": {
    "collapsed": false,
    "pycharm": {
     "name": "#%%\n"
    }
   }
  },
  {
   "cell_type": "code",
   "execution_count": 283,
   "outputs": [
    {
     "name": "stdout",
     "output_type": "stream",
     "text": [
      "epoch : 0 ======> cost : 0.598719083833945 , train accuracy : 0.61\n",
      "epoch : 1 ======> cost : 0.4039078872658318 , train accuracy : 0.75\n",
      "epoch : 2 ======> cost : 0.32805750836973785 , train accuracy : 0.755\n",
      "epoch : 3 ======> cost : 0.29938027027764724 , train accuracy : 0.75\n",
      "epoch : 4 ======> cost : 0.2823951418477812 , train accuracy : 0.755\n",
      "__________________________________________________\n",
      "train accuracy: 0.755\n",
      "test accuracy: 0.2823951418477812\n"
     ]
    },
    {
     "data": {
      "text/plain": "<Figure size 432x288 with 1 Axes>",
      "image/png": "[encoded data removed]"
     },
     "metadata": {
      "needs_background": "light"
     },
     "output_type": "display_data"
    },
    {
     "data": {
      "text/plain": "<Figure size 432x288 with 1 Axes>",
      "image/png": "[encoded data removed]"
     },
     "metadata": {
      "needs_background": "light"
     },
     "output_type": "display_data"
    },
    {
     "name": "stdout",
     "output_type": "stream",
     "text": [
      "minutes : 0\n",
      "seconds : 1\n"
     ]
    }
   ],
   "source": [
    "#learning rate = 0.5 ,epoch = 5 and batch = 10 for still 200 images\n",
    "start_time = time.time()\n",
    "train ,test ,cost ,final_weights ,final_biases = main_model(model_first_test ,train_set ,test_set ,0.5 ,5 ,10 ,sigmoid ,sigmoid ,sigmoid_derivative ,sigmoid_derivative ,200 ,0.7 ,just_use_train_set=True ,use_momentum=True ,vectorization=True)\n",
    "show_plot(train ,test ,cost ,just_use_train_set=False)\n",
    "final_time_second = round(time.time() - start_time)\n",
    "print(f\"minutes : {final_time_second // 60}\")\n",
    "print(f\"seconds : {final_time_second % 60}\")"
   ],
   "metadata": {
    "collapsed": false,
    "pycharm": {
     "name": "#%%\n"
    }
   }
  },
  {
   "cell_type": "code",
   "execution_count": 286,
   "outputs": [
    {
     "name": "stdout",
     "output_type": "stream",
     "text": [
      "epoch : 0 ======> cost : 0.49747043733618895 , train accuracy : 0.655\n",
      "epoch : 1 ======> cost : 0.38874842017983446 , train accuracy : 0.68\n",
      "epoch : 2 ======> cost : 0.19501436331763272 , train accuracy : 0.98\n",
      "epoch : 3 ======> cost : 0.08100252736321105 , train accuracy : 0.99\n",
      "epoch : 4 ======> cost : 0.09750092308659397 , train accuracy : 0.96\n",
      "epoch : 5 ======> cost : 0.05082372832896902 , train accuracy : 1.0\n",
      "epoch : 6 ======> cost : 0.04288764324458512 , train accuracy : 0.995\n",
      "epoch : 7 ======> cost : 0.03273424451699296 , train accuracy : 1.0\n",
      "epoch : 8 ======> cost : 0.028518705584547544 , train accuracy : 1.0\n",
      "epoch : 9 ======> cost : 0.03011759399719186 , train accuracy : 0.985\n",
      "__________________________________________________\n",
      "train accuracy: 0.985\n",
      "test accuracy: 0.03011759399719186\n"
     ]
    },
    {
     "data": {
      "text/plain": "<Figure size 432x288 with 1 Axes>",
      "image/png": "[encoded data removed]"
     },
     "metadata": {
      "needs_background": "light"
     },
     "output_type": "display_data"
    },
    {
     "data": {
      "text/plain": "<Figure size 432x288 with 1 Axes>",
      "image/png": "[encoded data removed]"
     },
     "metadata": {
      "needs_background": "light"
     },
     "output_type": "display_data"
    },
    {
     "name": "stdout",
     "output_type": "stream",
     "text": [
      "minutes : 0\n",
      "seconds : 1\n"
     ]
    }
   ],
   "source": [
    "#learning rate = 0.5 ,epoch = 10 and batch = 10 for still 200 images\n",
    "start_time = time.time()\n",
    "train ,test ,cost ,final_weights ,final_biases = main_model(model_first_test ,train_set ,test_set ,0.5 ,10 ,10 ,sigmoid ,sigmoid ,sigmoid_derivative ,sigmoid_derivative ,200 ,0.7 ,just_use_train_set=True ,use_momentum=True ,vectorization=True)\n",
    "show_plot(train ,test ,cost ,just_use_train_set=False)\n",
    "final_time_second = round(time.time() - start_time)\n",
    "print(f\"minutes : {final_time_second // 60}\")\n",
    "print(f\"seconds : {final_time_second % 60}\")"
   ],
   "metadata": {
    "collapsed": false,
    "pycharm": {
     "name": "#%%\n"
    }
   }
  },
  {
   "cell_type": "code",
   "execution_count": 362,
   "outputs": [
    {
     "name": "stdout",
     "output_type": "stream",
     "text": [
      "epoch : 0 ===> cost : 0.6879565864560662 , train accuracy : 0.48\n",
      "epoch : 1 ===> cost : 0.5186083004049381 , train accuracy : 0.68\n",
      "epoch : 2 ===> cost : 0.4529400214507032 , train accuracy : 0.715\n",
      "epoch : 3 ===> cost : 0.41538497956347803 , train accuracy : 0.69\n",
      "epoch : 4 ===> cost : 0.37884223103609055 , train accuracy : 0.72\n",
      "__________________________________________________\n",
      "train accuracy: 0.72\n",
      "test accuracy: 0.37884223103609055\n"
     ]
    },
    {
     "data": {
      "text/plain": "<Figure size 432x288 with 1 Axes>",
      "image/png": "[encoded data removed]"
     },
     "metadata": {
      "needs_background": "light"
     },
     "output_type": "display_data"
    },
    {
     "data": {
      "text/plain": "<Figure size 432x288 with 1 Axes>",
      "image/png": "[encoded data removed]"
     },
     "metadata": {
      "needs_background": "light"
     },
     "output_type": "display_data"
    },
    {
     "name": "stdout",
     "output_type": "stream",
     "text": [
      "minutes : 0\n",
      "seconds : 1\n"
     ]
    }
   ],
   "source": [
    "#learning rate = 0.5 ,epoch = 10 and batch = 20 for still 200 images\n",
    "start_time = time.time()\n",
    "train ,test ,cost ,final_weights ,final_biases = main_model(model_first_test ,train_set ,test_set ,0.5 ,5 ,20 ,sigmoid ,sigmoid ,sigmoid_derivative ,sigmoid_derivative ,200 ,0.7 ,just_use_train_set=True ,use_momentum=True ,vectorization=True)\n",
    "show_plot(train ,test ,cost ,just_use_train_set=False)\n",
    "final_time_second = round(time.time() - start_time)\n",
    "print(f\"minutes : {final_time_second // 60}\")\n",
    "print(f\"seconds : {final_time_second % 60}\")"
   ],
   "metadata": {
    "collapsed": false,
    "pycharm": {
     "name": "#%%\n"
    }
   }
  },
  {
   "cell_type": "markdown",
   "source": [
    "# extra credit 2 (improve SGD by using momentum)"
   ],
   "metadata": {
    "collapsed": false,
    "pycharm": {
     "name": "#%% md\n"
    }
   }
  },
  {
   "cell_type": "code",
   "execution_count": null,
   "outputs": [],
   "source": [
    "def momentum(model):\n",
    "    dimensions = [(model[i+1][0], model[i][0]) for i in range(len(model)-1)]\n",
    "    v = {'dw':[],'db':[]}\n",
    "    for dimension in dimensions:\n",
    "        d_of_weight = np.zeros(dimension)\n",
    "        d_of_bias = np.zeros((dimension[0] ,1))\n",
    "        v['dw'].append(d_of_weight)\n",
    "        v['db'].append(d_of_bias)\n",
    "    return v"
   ],
   "metadata": {
    "collapsed": false,
    "pycharm": {
     "name": "#%%\n"
    }
   }
  },
  {
   "cell_type": "code",
   "execution_count": 290,
   "outputs": [
    {
     "name": "stdout",
     "output_type": "stream",
     "text": [
      "epoch : 0 ======> cost : 1.3098026532322349 , train accuracy : 0.222\n",
      "epoch : 1 ======> cost : 0.8118532295828631 , train accuracy : 0.222\n",
      "epoch : 2 ======> cost : 0.7881153822047359 , train accuracy : 0.222\n",
      "epoch : 3 ======> cost : 0.7847108745212521 , train accuracy : 0.222\n",
      "epoch : 4 ======> cost : 0.7827096512164434 , train accuracy : 0.222\n",
      "__________________________________________________\n",
      "train accuracy: 0.222\n",
      "test accuracy: 0.7827096512164434\n"
     ]
    },
    {
     "data": {
      "text/plain": "<Figure size 432x288 with 1 Axes>",
      "image/png": "[encoded data removed]"
     },
     "metadata": {
      "needs_background": "light"
     },
     "output_type": "display_data"
    },
    {
     "data": {
      "text/plain": "<Figure size 432x288 with 1 Axes>",
      "image/png": "[encoded data removed]"
     },
     "metadata": {
      "needs_background": "light"
     },
     "output_type": "display_data"
    },
    {
     "name": "stdout",
     "output_type": "stream",
     "text": [
      "minutes : 0\n",
      "seconds : 1\n"
     ]
    }
   ],
   "source": [
    "# without using momentum on 500 images\n",
    "start_time = time.time()\n",
    "train ,test ,cost ,final_weights ,final_biases = main_model(model_first_test ,train_set ,test_set ,1 ,5 ,10 ,sigmoid ,sigmoid ,sigmoid_derivative ,sigmoid_derivative ,500 ,0.7 ,just_use_train_set=True ,use_momentum=False ,vectorization=True)\n",
    "show_plot(train ,test ,cost ,just_use_train_set=False)\n",
    "final_time_second = round(time.time() - start_time)\n",
    "print(f\"minutes : {final_time_second // 60}\")\n",
    "print(f\"seconds : {final_time_second % 60}\")"
   ],
   "metadata": {
    "collapsed": false,
    "pycharm": {
     "name": "#%%\n"
    }
   }
  },
  {
   "cell_type": "code",
   "execution_count": 291,
   "outputs": [
    {
     "name": "stdout",
     "output_type": "stream",
     "text": [
      "epoch : 0 ======> cost : 0.6716138880739869 , train accuracy : 0.492\n",
      "epoch : 1 ======> cost : 0.44831913591013434 , train accuracy : 0.732\n",
      "epoch : 2 ======> cost : 0.28932586468776994 , train accuracy : 0.732\n",
      "epoch : 3 ======> cost : 0.28081418839095923 , train accuracy : 0.732\n",
      "epoch : 4 ======> cost : 0.27727751179413707 , train accuracy : 0.732\n",
      "__________________________________________________\n",
      "train accuracy: 0.732\n",
      "test accuracy: 0.27727751179413707\n"
     ]
    },
    {
     "data": {
      "text/plain": "<Figure size 432x288 with 1 Axes>",
      "image/png": "[encoded data removed]"
     },
     "metadata": {
      "needs_background": "light"
     },
     "output_type": "display_data"
    },
    {
     "data": {
      "text/plain": "<Figure size 432x288 with 1 Axes>",
      "image/png": "[encoded data removed]"
     },
     "metadata": {
      "needs_background": "light"
     },
     "output_type": "display_data"
    },
    {
     "name": "stdout",
     "output_type": "stream",
     "text": [
      "minutes : 0\n",
      "seconds : 1\n"
     ]
    }
   ],
   "source": [
    "#using momentum on 500 image\n",
    "start_time = time.time()\n",
    "train ,test ,cost ,final_weights ,final_biases = main_model(model_first_test ,train_set ,test_set ,1 ,5 ,10 ,sigmoid ,sigmoid ,sigmoid_derivative ,sigmoid_derivative ,500 ,0.7 ,just_use_train_set=True ,use_momentum=True ,vectorization=True)\n",
    "show_plot(train ,test ,cost ,just_use_train_set=False)\n",
    "final_time_second = round(time.time() - start_time)\n",
    "print(f\"minutes : {final_time_second // 60}\")\n",
    "print(f\"seconds : {final_time_second % 60}\")"
   ],
   "metadata": {
    "collapsed": false,
    "pycharm": {
     "name": "#%%\n"
    }
   }
  },
  {
   "cell_type": "markdown",
   "source": [
    "# extra credit 3 (adding a new fruit)"
   ],
   "metadata": {
    "collapsed": false,
    "pycharm": {
     "name": "#%% md\n"
    }
   }
  },
  {
   "cell_type": "code",
   "execution_count": 298,
   "outputs": [],
   "source": [
    "import os\n",
    "import skimage.io, skimage.color, skimage.feature"
   ],
   "metadata": {
    "collapsed": false,
    "pycharm": {
     "name": "#%%\n"
    }
   }
  },
  {
   "cell_type": "code",
   "execution_count": 299,
   "outputs": [],
   "source": [
    "fruits = [\"apple\", \"lemon\", \"mango\", \"raspberry\" ,\"banana\"]\n",
    "#492+490+490+490+490+427=2,452\n",
    "dataset_features = np.zeros(shape=(2452, 360))\n",
    "outputs = np.zeros(shape=(2452))\n",
    "\n",
    "idx = 0\n",
    "class_label = 0\n",
    "for fruit_dir in fruits:\n",
    "    curr_dir = os.path.join(os.path.sep + \"datasets/Fruits-360/Train\", fruit_dir)\n",
    "    all_imgs = os.listdir(os.getcwd()+curr_dir)\n",
    "    for img_file in all_imgs:\n",
    "        if img_file.endswith(\".jpg\"): # Ensures reading only JPG files.\n",
    "            fruit_data = skimage.io.imread(fname=os.path.sep.join([os.getcwd(), curr_dir, img_file]), as_gray=False)\n",
    "            fruit_data_hsv = skimage.color.rgb2hsv(rgb=fruit_data)\n",
    "            hist = np.histogram(a=fruit_data_hsv[:, :, 0], bins=360)\n",
    "            dataset_features[idx, :] = hist[0]\n",
    "            outputs[idx] = class_label\n",
    "            idx = idx + 1\n",
    "    class_label = class_label + 1\n",
    "\n",
    "with open(\"datasets/train_set_features2.pkl\", \"wb\") as f:\n",
    "    pickle.dump(dataset_features, f)\n",
    "\n",
    "with open(\"datasets/train_set_labels2.pkl\", \"wb\") as f:\n",
    "    pickle.dump(outputs, f)"
   ],
   "metadata": {
    "collapsed": false,
    "pycharm": {
     "name": "#%%\n"
    }
   }
  },
  {
   "cell_type": "code",
   "execution_count": 300,
   "outputs": [],
   "source": [
    "#164+166+166+166+166=828\n",
    "dataset_features = np.zeros(shape=(828, 360))\n",
    "outputs = np.zeros(shape=(828))\n",
    "\n",
    "idx = 0\n",
    "class_label = 0\n",
    "for fruit_dir in fruits:\n",
    "    curr_dir = os.path.join(os.path.sep + \"datasets/Fruits-360/Test\", fruit_dir)\n",
    "    all_imgs = os.listdir(os.getcwd()+curr_dir)\n",
    "    for img_file in all_imgs:\n",
    "        if img_file.endswith(\".jpg\"): # Ensures reading only JPG files.\n",
    "            fruit_data = skimage.io.imread(fname=os.path.sep.join([os.getcwd(), curr_dir , img_file]), as_gray=False)\n",
    "            fruit_data_hsv = skimage.color.rgb2hsv(rgb=fruit_data)\n",
    "            hist = np.histogram(a=fruit_data_hsv[:, :, 0], bins=360)\n",
    "            dataset_features[idx, :] = hist[0]\n",
    "            outputs[idx] = class_label\n",
    "            idx = idx + 1\n",
    "    class_label = class_label + 1\n",
    "\n",
    "with open(\"datasets/test_set_features2.pkl\", \"wb\") as f:\n",
    "    pickle.dump(dataset_features, f)\n",
    "\n",
    "with open(\"datasets/test_set_labels2.pkl\", \"wb\") as f:\n",
    "    pickle.dump(outputs, f)"
   ],
   "metadata": {
    "collapsed": false,
    "pycharm": {
     "name": "#%%\n"
    }
   }
  },
  {
   "cell_type": "code",
   "execution_count": 302,
   "outputs": [
    {
     "name": "stdout",
     "output_type": "stream",
     "text": [
      "2452\n",
      "828\n"
     ]
    }
   ],
   "source": [
    "# loading new training set features\n",
    "f = open(\"datasets/train_set_features2.pkl\", \"rb\")\n",
    "train_set_features2 = pickle.load(f)\n",
    "f.close()\n",
    "\n",
    "# reducing feature vector length\n",
    "features_STDs = np.std(a=train_set_features2, axis=0)\n",
    "train_set_features = train_set_features2[:, features_STDs > 52.3]\n",
    "\n",
    "# changing the range of data between 0 and 1\n",
    "train_set_features = np.divide(train_set_features, train_set_features.max())\n",
    "\n",
    "# loading training set labels\n",
    "f = open(\"datasets/train_set_labels2.pkl\", \"rb\")\n",
    "train_set_labels = pickle.load(f)\n",
    "f.close()\n",
    "\n",
    "# ------------\n",
    "# loading test set features\n",
    "f = open(\"Datasets/test_set_features2.pkl\", \"rb\")\n",
    "test_set_features2 = pickle.load(f)\n",
    "f.close()\n",
    "\n",
    "# reducing feature vector length\n",
    "features_STDs = np.std(a=test_set_features2, axis=0)\n",
    "test_set_features = test_set_features2[:, features_STDs > 48]\n",
    "\n",
    "# changing the range of data between 0 and 1\n",
    "test_set_features = np.divide(test_set_features, test_set_features.max())\n",
    "\n",
    "# loading test set labels\n",
    "f = open(\"Datasets/test_set_labels2.pkl\", \"rb\")\n",
    "test_set_labels = pickle.load(f)\n",
    "f.close()\n",
    "\n",
    "# ------------\n",
    "# preparing our training and test sets - joining datasets and lables\n",
    "train_set_second = []\n",
    "test_set_second = []\n",
    "\n",
    "for i in range(len(train_set_features)):\n",
    "    label = np.array([0,0,0,0,0])\n",
    "    label[int(train_set_labels[i])] = 1\n",
    "    label = label.reshape(5,1)\n",
    "    train_set_second.append((train_set_features[i].reshape(104,1), label))\n",
    "\n",
    "\n",
    "for i in range(len(test_set_features)):\n",
    "    label = np.array([0,0,0,0,0])\n",
    "    label[int(test_set_labels[i])] = 1\n",
    "    label = label.reshape(5,1)\n",
    "    test_set_second.append((test_set_features[i].reshape(104,1), label))\n",
    "\n",
    "# shuffle\n",
    "random.shuffle(train_set_second)\n",
    "random.shuffle(test_set_second)\n",
    "\n",
    "# print size\n",
    "print(len(train_set_second)) #2452\n",
    "print(len(test_set_second)) #828"
   ],
   "metadata": {
    "collapsed": false,
    "pycharm": {
     "name": "#%%\n"
    }
   }
  },
  {
   "cell_type": "code",
   "execution_count": 304,
   "outputs": [
    {
     "data": {
      "text/plain": "0.17"
     },
     "execution_count": 304,
     "metadata": {},
     "output_type": "execute_result"
    }
   ],
   "source": [
    "model_second_test = [\n",
    "    [len(train_set_second[0][0])],\n",
    "    [180],\n",
    "    [70],\n",
    "    [5],\n",
    "]\n",
    "all_weight, all_bias = initialization(model_second_test)\n",
    "accuracy(train_set_second, 200, all_weight, all_bias, sigmoid, sigmoid)"
   ],
   "metadata": {
    "collapsed": false,
    "pycharm": {
     "name": "#%%\n"
    }
   }
  },
  {
   "cell_type": "code",
   "execution_count": 307,
   "outputs": [
    {
     "name": "stdout",
     "output_type": "stream",
     "text": [
      "epoch : 0 ======> cost : 0.7959586664745283 , train accuracy : 0.32830342577487764 , test accuracy : 0.29589371980676327\n",
      "epoch : 1 ======> cost : 0.6690696962984526 , train accuracy : 0.7259380097879282 , test accuracy : 0.5845410628019324\n",
      "epoch : 2 ======> cost : 0.6228336962268635 , train accuracy : 0.399673735725938 , test accuracy : 0.40096618357487923\n",
      "epoch : 3 ======> cost : 0.40076713307247996 , train accuracy : 0.6676182707993474 , test accuracy : 0.6014492753623188\n",
      "epoch : 4 ======> cost : 0.05258739801906805 , train accuracy : 0.9637030995106036 , test accuracy : 0.9154589371980676\n",
      "epoch : 5 ======> cost : 0.01514803968297868 , train accuracy : 0.9906199021207178 , test accuracy : 1.0\n",
      "epoch : 6 ======> cost : 0.007699508850790428 , train accuracy : 0.99836867862969 , test accuracy : 0.9939613526570048\n",
      "epoch : 7 ======> cost : 0.003593829126222111 , train accuracy : 0.9995921696574225 , test accuracy : 0.998792270531401\n",
      "epoch : 8 ======> cost : 0.011661488966548198 , train accuracy : 0.9955138662316476 , test accuracy : 0.964975845410628\n",
      "epoch : 9 ======> cost : 0.002056684510195481 , train accuracy : 1.0 , test accuracy : 0.998792270531401\n",
      "__________________________________________________\n",
      "train accuracy: 1.0\n",
      "test accuracy: 0.998792270531401\n"
     ]
    },
    {
     "data": {
      "text/plain": "<Figure size 432x288 with 1 Axes>",
      "image/png": "[encoded data removed]"
     },
     "metadata": {
      "needs_background": "light"
     },
     "output_type": "display_data"
    },
    {
     "data": {
      "text/plain": "<Figure size 432x288 with 1 Axes>",
      "image/png": "[encoded data removed]"
     },
     "metadata": {
      "needs_background": "light"
     },
     "output_type": "display_data"
    },
    {
     "name": "stdout",
     "output_type": "stream",
     "text": [
      "minutes : 0\n",
      "seconds : 18\n"
     ]
    }
   ],
   "source": [
    "start_time = time.time()\n",
    "train ,test ,cost ,final_weights ,final_biases = main_model(model_second_test ,train_set_second ,test_set_second ,1 ,10 ,10 ,sigmoid ,sigmoid ,sigmoid_derivative ,sigmoid_derivative ,200 ,0.7 ,just_use_train_set=False ,use_momentum=False ,vectorization=True)\n",
    "show_plot(train ,test ,cost ,just_use_train_set=False)\n",
    "final_time_second = round(time.time() - start_time)\n",
    "print(f\"minutes : {final_time_second // 60}\")\n",
    "print(f\"seconds : {final_time_second % 60}\")"
   ],
   "metadata": {
    "collapsed": false,
    "pycharm": {
     "name": "#%%\n"
    }
   }
  },
  {
   "cell_type": "markdown",
   "source": [
    "# extra credit 4 (using softmax for output)"
   ],
   "metadata": {
    "collapsed": false,
    "pycharm": {
     "name": "#%% md\n"
    }
   }
  },
  {
   "cell_type": "code",
   "execution_count": 327,
   "outputs": [],
   "source": [
    "def softmax(x):\n",
    "    e = np.exp(x)\n",
    "    return e / np.sum(e)\n",
    "def softmax_derivative(predict ,label_output):\n",
    "    return predict - label_output\n",
    "def cross_entropy(train_data, number_of_test, all_weight_input, all_bias_input, last_layer_activation, other_layer_activation):\n",
    "    temp_cost = 0\n",
    "    for i in range(number_of_test):\n",
    "        predictions = forward_propagation(train_data[i][0], all_weight_input, all_bias_input, last_layer_activation, other_layer_activation)\n",
    "        prediction = predictions[-1]\n",
    "        temp_cost += np.sum([-y * np.log(x) for x, y in zip(prediction, train_data[i][1])]) / len(prediction)\n",
    "    return temp_cost / number_of_test"
   ],
   "metadata": {
    "collapsed": false,
    "pycharm": {
     "name": "#%%\n"
    }
   }
  },
  {
   "cell_type": "code",
   "execution_count": 336,
   "outputs": [
    {
     "name": "stdout",
     "output_type": "stream",
     "text": [
      "epoch : 0 ======> cost : 0.25889764331511395 , train accuracy : 0.881\n",
      "epoch : 1 ======> cost : 0.024829517754704496 , train accuracy : 1.0\n",
      "epoch : 2 ======> cost : 0.017011454516801548 , train accuracy : 1.0\n",
      "epoch : 3 ======> cost : 0.011461480794983913 , train accuracy : 1.0\n",
      "epoch : 4 ======> cost : 0.008367742953530544 , train accuracy : 1.0\n",
      "epoch : 5 ======> cost : 0.0074906903189010275 , train accuracy : 1.0\n",
      "epoch : 6 ======> cost : 0.006871485201130225 , train accuracy : 1.0\n",
      "epoch : 7 ======> cost : 0.005562712559297925 , train accuracy : 1.0\n",
      "epoch : 8 ======> cost : 0.004827819522906126 , train accuracy : 1.0\n",
      "epoch : 9 ======> cost : 0.0037936795561228525 , train accuracy : 1.0\n",
      "__________________________________________________\n",
      "train accuracy: 1.0\n",
      "test accuracy: 0.0037936795561228525\n"
     ]
    },
    {
     "data": {
      "text/plain": "<Figure size 432x288 with 1 Axes>",
      "image/png": "[encoded data removed]"
     },
     "metadata": {
      "needs_background": "light"
     },
     "output_type": "display_data"
    },
    {
     "data": {
      "text/plain": "<Figure size 432x288 with 1 Axes>",
      "image/png": "[encoded data removed]"
     },
     "metadata": {
      "needs_background": "light"
     },
     "output_type": "display_data"
    },
    {
     "name": "stdout",
     "output_type": "stream",
     "text": [
      "minutes : 0\n",
      "seconds : 7\n"
     ]
    }
   ],
   "source": [
    "#without using softmax on 1000 image\n",
    "start_time = time.time()\n",
    "train ,test ,cost ,final_weights ,final_biases = main_model(model_first_test ,train_set ,test_set ,0.5 ,10 ,10 ,sigmoid ,sigmoid ,sigmoid_derivative ,sigmoid_derivative ,1000 ,0.7 ,just_use_train_set=True ,use_momentum=False ,vectorization=True)\n",
    "show_plot(train ,test ,cost ,just_use_train_set=True)\n",
    "final_time_second = round(time.time() - start_time)\n",
    "print(f\"minutes : {final_time_second // 60}\")\n",
    "print(f\"seconds : {final_time_second % 60}\")"
   ],
   "metadata": {
    "collapsed": false,
    "pycharm": {
     "name": "#%%\n"
    }
   }
  },
  {
   "cell_type": "code",
   "execution_count": 337,
   "outputs": [
    {
     "name": "stdout",
     "output_type": "stream",
     "text": [
      "epoch : 0 ======> cost : 1.0613219845873685 , train accuracy : 0.407\n",
      "epoch : 1 ======> cost : 0.9028927083963428 , train accuracy : 0.522\n",
      "epoch : 2 ======> cost : 0.2767014217785198 , train accuracy : 0.765\n",
      "epoch : 3 ======> cost : 0.1623811504952393 , train accuracy : 0.765\n",
      "epoch : 4 ======> cost : 0.03480735660723655 , train accuracy : 0.993\n",
      "epoch : 5 ======> cost : 0.019546235031027683 , train accuracy : 0.999\n",
      "epoch : 6 ======> cost : 0.013852534719046568 , train accuracy : 0.999\n",
      "epoch : 7 ======> cost : 0.01106703730462228 , train accuracy : 1.0\n",
      "epoch : 8 ======> cost : 0.009251897994795266 , train accuracy : 0.999\n",
      "epoch : 9 ======> cost : 0.008030639068593458 , train accuracy : 0.999\n",
      "__________________________________________________\n",
      "train accuracy: 0.999\n",
      "test accuracy: 0.008030639068593458\n"
     ]
    },
    {
     "data": {
      "text/plain": "<Figure size 432x288 with 1 Axes>",
      "image/png": "[encoded data removed]"
     },
     "metadata": {
      "needs_background": "light"
     },
     "output_type": "display_data"
    },
    {
     "data": {
      "text/plain": "<Figure size 432x288 with 1 Axes>",
      "image/png": "[encoded data removed]"
     },
     "metadata": {
      "needs_background": "light"
     },
     "output_type": "display_data"
    },
    {
     "name": "stdout",
     "output_type": "stream",
     "text": [
      "minutes : 0\n",
      "seconds : 7\n"
     ]
    }
   ],
   "source": [
    "#using softmax on 1000 image\n",
    "start_time = time.time()\n",
    "train ,test ,cost ,final_weights ,final_biases = main_model(model_first_test ,train_set ,test_set ,0.5 ,10 ,10 ,softmax ,sigmoid ,softmax_derivative ,sigmoid_derivative ,1000 ,0.7 ,just_use_train_set=True ,use_momentum=False ,vectorization=True)\n",
    "show_plot(train ,test ,cost ,just_use_train_set=True)\n",
    "final_time_second = round(time.time() - start_time)\n",
    "print(f\"minutes : {final_time_second // 60}\")\n",
    "print(f\"seconds : {final_time_second % 60}\")"
   ],
   "metadata": {
    "collapsed": false,
    "pycharm": {
     "name": "#%%\n"
    }
   }
  }
 ],
 "metadata": {
  "kernelspec": {
   "display_name": "Python 3",
   "language": "python",
   "name": "python3"
  },
  "language_info": {
   "codemirror_mode": {
    "name": "ipython",
    "version": 3
   },
   "file_extension": ".py",
   "mimetype": "text/x-python",
   "name": "python",
   "nbconvert_exporter": "python",
   "pygments_lexer": "ipython3",
   "version": "3.8.8"
  }
 },
 "nbformat": 4,
 "nbformat_minor": 5
}